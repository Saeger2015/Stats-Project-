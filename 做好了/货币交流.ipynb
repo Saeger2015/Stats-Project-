{
 "cells": [
  {
   "cell_type": "code",
   "execution_count": 1,
   "metadata": {},
   "outputs": [],
   "source": [
    "import yfinance as yf"
   ]
  },
  {
   "cell_type": "code",
   "execution_count": 3,
   "metadata": {},
   "outputs": [],
   "source": [
    "Eur_usd = yf.Ticker(\"EURUSD=X\")\n",
    "hist = Eur_usd.history(period=\"max\")"
   ]
  },
  {
   "cell_type": "code",
   "execution_count": 4,
   "metadata": {},
   "outputs": [
    {
     "name": "stdout",
     "output_type": "stream",
     "text": [
      "                Open      High       Low     Close  Volume  Dividends  \\\n",
      "Date                                                                    \n",
      "2003-12-01  1.203398  1.204007  1.194401  1.196501       0          0   \n",
      "2003-12-02  1.196101  1.210903  1.194600  1.208897       0          0   \n",
      "2003-12-03  1.209000  1.213003  1.207700  1.212298       0          0   \n",
      "2003-12-04  1.212004  1.214403  1.204398  1.208094       0          0   \n",
      "2003-12-05  1.207802  1.219096  1.206593  1.218695       0          0   \n",
      "\n",
      "            Stock Splits  \n",
      "Date                      \n",
      "2003-12-01             0  \n",
      "2003-12-02             0  \n",
      "2003-12-03             0  \n",
      "2003-12-04             0  \n",
      "2003-12-05             0  \n",
      "                Open      High       Low     Close  Volume  Dividends  \\\n",
      "Date                                                                    \n",
      "2022-01-24  1.134095  1.134095  1.129140  1.134147       0          0   \n",
      "2022-01-25  1.132387  1.132503  1.126684  1.132413       0          0   \n",
      "2022-01-26  1.130352  1.131350  1.127205  1.130454       0          0   \n",
      "2022-01-27  1.124227  1.124480  1.113350  1.124354       0          0   \n",
      "2022-01-28  1.114616  1.117006  1.112335  1.114703       0          0   \n",
      "\n",
      "            Stock Splits  \n",
      "Date                      \n",
      "2022-01-24             0  \n",
      "2022-01-25             0  \n",
      "2022-01-26             0  \n",
      "2022-01-27             0  \n",
      "2022-01-28             0  \n"
     ]
    }
   ],
   "source": [
    "print(hist.head())\n",
    "print(hist.tail())"
   ]
  },
  {
   "cell_type": "code",
   "execution_count": 5,
   "metadata": {},
   "outputs": [
    {
     "name": "stdout",
     "output_type": "stream",
     "text": [
      "count    4711.000000\n",
      "mean        1.254964\n",
      "std         0.119039\n",
      "min         1.039047\n",
      "25%         1.154514\n",
      "50%         1.245594\n",
      "75%         1.339154\n",
      "max         1.598798\n",
      "Name: Close, dtype: float64\n"
     ]
    }
   ],
   "source": [
    "print(hist['Close'].describe())"
   ]
  },
  {
   "cell_type": "code",
   "execution_count": 6,
   "metadata": {},
   "outputs": [
    {
     "name": "stdout",
     "output_type": "stream",
     "text": [
      "Close   2008-04-22\n",
      "dtype: datetime64[ns]\n"
     ]
    }
   ],
   "source": [
    "print(hist[['Close']].idxmax())"
   ]
  },
  {
   "cell_type": "code",
   "execution_count": 7,
   "metadata": {},
   "outputs": [
    {
     "name": "stdout",
     "output_type": "stream",
     "text": [
      "Close   2016-12-21\n",
      "dtype: datetime64[ns]\n"
     ]
    }
   ],
   "source": [
    "print(hist[['Close']].idxmin())"
   ]
  },
  {
   "cell_type": "code",
   "execution_count": 8,
   "metadata": {},
   "outputs": [
    {
     "name": "stdout",
     "output_type": "stream",
     "text": [
      "                Open      High       Low     Close  Volume  Dividends  \\\n",
      "Date                                                                    \n",
      "2021-04-26  1.208956  1.211827  1.206374  1.208985       0          0   \n",
      "2021-04-27  1.207921  1.209190  1.205793  1.208167       0          0   \n",
      "2021-04-28  1.208854  1.210214  1.205764  1.209031       0          0   \n",
      "2021-04-29  1.213578  1.215214  1.210419  1.213592       0          0   \n",
      "2021-04-30  1.212489  1.212856  1.202472  1.212709       0          0   \n",
      "...              ...       ...       ...       ...     ...        ...   \n",
      "2022-01-24  1.134095  1.134095  1.129140  1.134147       0          0   \n",
      "2022-01-25  1.132387  1.132503  1.126684  1.132413       0          0   \n",
      "2022-01-26  1.130352  1.131350  1.127205  1.130454       0          0   \n",
      "2022-01-27  1.124227  1.124480  1.113350  1.124354       0          0   \n",
      "2022-01-28  1.114616  1.117006  1.112335  1.114703       0          0   \n",
      "\n",
      "            Stock Splits  \n",
      "Date                      \n",
      "2021-04-26             0  \n",
      "2021-04-27             0  \n",
      "2021-04-28             0  \n",
      "2021-04-29             0  \n",
      "2021-04-30             0  \n",
      "...                  ...  \n",
      "2022-01-24             0  \n",
      "2022-01-25             0  \n",
      "2022-01-26             0  \n",
      "2022-01-27             0  \n",
      "2022-01-28             0  \n",
      "\n",
      "[200 rows x 7 columns]\n"
     ]
    }
   ],
   "source": [
    "Eur_usd = yf.Ticker(\"EURUSD=X\")\n",
    "hist = Eur_usd.history(period=\"max\")\n",
    "print(hist[-200:])"
   ]
  },
  {
   "cell_type": "code",
   "execution_count": 10,
   "metadata": {},
   "outputs": [
    {
     "name": "stdout",
     "output_type": "stream",
     "text": [
      "count    200.000000\n",
      "mean       1.170274\n",
      "std        0.029882\n",
      "min        1.114703\n",
      "25%        1.140130\n",
      "50%        1.173736\n",
      "75%        1.187543\n",
      "max        1.224909\n",
      "Name: Close, dtype: float64\n"
     ]
    }
   ],
   "source": [
    "print(hist[-200:]['Close'].describe())"
   ]
  },
  {
   "cell_type": "code",
   "execution_count": 9,
   "metadata": {},
   "outputs": [
    {
     "data": {
      "text/plain": [
       "<matplotlib.axes._subplots.AxesSubplot at 0x27cd252ad48>"
      ]
     },
     "execution_count": 9,
     "metadata": {},
     "output_type": "execute_result"
    },
    {
     "data": {
      "image/png": "[encoded data removed]",
      "text/plain": [
       "<Figure size 432x288 with 1 Axes>"
      ]
     },
     "metadata": {
      "needs_background": "light"
     },
     "output_type": "display_data"
    }
   ],
   "source": [
    "hist['Close'].plot()"
   ]
  }
 ],
 "metadata": {
  "kernelspec": {
   "display_name": "Python 3",
   "language": "python",
   "name": "python3"
  },
  "language_info": {
   "codemirror_mode": {
    "name": "ipython",
    "version": 3
   },
   "file_extension": ".py",
   "mimetype": "text/x-python",
   "name": "python",
   "nbconvert_exporter": "python",
   "pygments_lexer": "ipython3",
   "version": "3.7.6"
  }
 },
 "nbformat": 4,
 "nbformat_minor": 4
}

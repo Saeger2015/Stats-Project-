{
 "cells": [
  {
   "cell_type": "markdown",
   "metadata": {},
   "source": [
    "## Observations and Insights "
   ]
  },
  {
   "cell_type": "markdown",
   "metadata": {},
   "source": []
  },
  {
   "cell_type": "code",
   "execution_count": 1,
   "metadata": {},
   "outputs": [
    {
     "data": {
      "text/html": [
       "<div>\n",
       "<style scoped>\n",
       "    .dataframe tbody tr th:only-of-type {\n",
       "        vertical-align: middle;\n",
       "    }\n",
       "\n",
       "    .dataframe tbody tr th {\n",
       "        vertical-align: top;\n",
       "    }\n",
       "\n",
       "    .dataframe thead th {\n",
       "        text-align: right;\n",
       "    }\n",
       "</style>\n",
       "<table border=\"1\" class=\"dataframe\">\n",
       "  <thead>\n",
       "    <tr style=\"text-align: right;\">\n",
       "      <th></th>\n",
       "      <th>Mouse ID</th>\n",
       "      <th>Timepoint</th>\n",
       "      <th>Tumor Volume (mm3)</th>\n",
       "      <th>Metastatic Sites</th>\n",
       "      <th>Drug Regimen</th>\n",
       "      <th>Sex</th>\n",
       "      <th>Age_months</th>\n",
       "      <th>Weight (g)</th>\n",
       "    </tr>\n",
       "  </thead>\n",
       "  <tbody>\n",
       "    <tr>\n",
       "      <th>0</th>\n",
       "      <td>b128</td>\n",
       "      <td>0</td>\n",
       "      <td>45.0</td>\n",
       "      <td>0</td>\n",
       "      <td>Capomulin</td>\n",
       "      <td>Female</td>\n",
       "      <td>9</td>\n",
       "      <td>22</td>\n",
       "    </tr>\n",
       "    <tr>\n",
       "      <th>1</th>\n",
       "      <td>f932</td>\n",
       "      <td>0</td>\n",
       "      <td>45.0</td>\n",
       "      <td>0</td>\n",
       "      <td>Ketapril</td>\n",
       "      <td>Male</td>\n",
       "      <td>15</td>\n",
       "      <td>29</td>\n",
       "    </tr>\n",
       "    <tr>\n",
       "      <th>2</th>\n",
       "      <td>g107</td>\n",
       "      <td>0</td>\n",
       "      <td>45.0</td>\n",
       "      <td>0</td>\n",
       "      <td>Ketapril</td>\n",
       "      <td>Female</td>\n",
       "      <td>2</td>\n",
       "      <td>29</td>\n",
       "    </tr>\n",
       "    <tr>\n",
       "      <th>3</th>\n",
       "      <td>a457</td>\n",
       "      <td>0</td>\n",
       "      <td>45.0</td>\n",
       "      <td>0</td>\n",
       "      <td>Ketapril</td>\n",
       "      <td>Female</td>\n",
       "      <td>11</td>\n",
       "      <td>30</td>\n",
       "    </tr>\n",
       "    <tr>\n",
       "      <th>4</th>\n",
       "      <td>c819</td>\n",
       "      <td>0</td>\n",
       "      <td>45.0</td>\n",
       "      <td>0</td>\n",
       "      <td>Ketapril</td>\n",
       "      <td>Male</td>\n",
       "      <td>21</td>\n",
       "      <td>25</td>\n",
       "    </tr>\n",
       "  </tbody>\n",
       "</table>\n",
       "</div>"
      ],
      "text/plain": [
       "  Mouse ID  Timepoint  Tumor Volume (mm3)  Metastatic Sites Drug Regimen  \\\n",
       "0     b128          0                45.0                 0    Capomulin   \n",
       "1     f932          0                45.0                 0     Ketapril   \n",
       "2     g107          0                45.0                 0     Ketapril   \n",
       "3     a457          0                45.0                 0     Ketapril   \n",
       "4     c819          0                45.0                 0     Ketapril   \n",
       "\n",
       "      Sex  Age_months  Weight (g)  \n",
       "0  Female           9          22  \n",
       "1    Male          15          29  \n",
       "2  Female           2          29  \n",
       "3  Female          11          30  \n",
       "4    Male          21          25  "
      ]
     },
     "execution_count": 1,
     "metadata": {},
     "output_type": "execute_result"
    }
   ],
   "source": [
    "# Dependencies and Setup\n",
    "import matplotlib.pyplot as plt\n",
    "import pandas as pd\n",
    "import scipy.stats as st\n",
    "import numpy as np\n",
    "from scipy.stats import linregress\n",
    "\n",
    "# Study data files\n",
    "mouse_metadata_path = \"data/Mouse_metadata.csv\"\n",
    "study_results_path = \"data/Study_results.csv\"\n",
    "\n",
    "# Read the mouse data and the study results\n",
    "mouse_metadata = pd.read_csv(mouse_metadata_path)\n",
    "study_results = pd.read_csv(study_results_path)\n",
    "\n",
    "# Combine the data into a single dataset\n",
    "complete_data = pd.merge(study_results, mouse_metadata, how=\"left\", on=\"Mouse ID\")\n",
    "# Display the data table for preview\n",
    "\n",
    "complete_data.head()"
   ]
  },
  {
   "cell_type": "code",
   "execution_count": null,
   "metadata": {},
   "outputs": [],
   "source": [
    "# Checking the number of mice.\n",
    "total_mice = len(complete_data[\"Mouse ID\"].unique())\n",
    "\n",
    "print(total_mice)"
   ]
  },
  {
   "cell_type": "code",
   "execution_count": null,
   "metadata": {},
   "outputs": [],
   "source": [
    "# Getting the duplicate mice by ID number that shows up for Mouse ID and Timepoint. \n",
    "complete_data[complete_data.duplicated(subset=['Mouse ID', 'Timepoint'], keep=False)][\"Mouse ID\"].unique()"
   ]
  },
  {
   "cell_type": "code",
   "execution_count": null,
   "metadata": {},
   "outputs": [],
   "source": [
    "# Optional: Get all the data for the duplicate mouse ID. \n",
    "complete_data.loc[complete_data[\"Mouse ID\"] == \"g989\"]"
   ]
  },
  {
   "cell_type": "code",
   "execution_count": null,
   "metadata": {},
   "outputs": [],
   "source": [
    "# Create a clean DataFrame by dropping the duplicate mouse by its ID.\n",
    "cleaned_complete_data=complete_data.loc[complete_data [\"Mouse ID\"]!= \"g989\"]\n",
    "\n",
    "cleaned_complete_data.head()"
   ]
  },
  {
   "cell_type": "code",
   "execution_count": null,
   "metadata": {
    "scrolled": true
   },
   "outputs": [],
   "source": [
    "# Checking the number of mice in the clean DataFrame.\n",
    "check = len(cleaned_complete_data[\"Mouse ID\"].unique())\n",
    "print(check)"
   ]
  },
  {
   "cell_type": "markdown",
   "metadata": {},
   "source": [
    "## Summary Statistics"
   ]
  },
  {
   "cell_type": "code",
   "execution_count": null,
   "metadata": {},
   "outputs": [],
   "source": [
    "# Generate a summary statistics table of mean, median, variance, standard deviation, and SEM of the tumor volume for each regimen\n",
    "\n",
    "# Use groupby and summary statistical methods to calculate the following properties of each drug regimen: \n",
    "# mean, median, variance, standard deviation, and SEM of the tumor volume. \n",
    "Mean = cleaned_complete_data.groupby(\"Drug Regimen\")[\"Tumor Volume (mm3)\"].mean()\n",
    "Median = cleaned_complete_data.groupby(\"Drug Regimen\")[\"Tumor Volume (mm3)\"].var()\n",
    "Variance = cleaned_complete_data.groupby(\"Drug Regimen\")[\"Tumor Volume (mm3)\"].var()\n",
    "StdDev = cleaned_complete_data.groupby(\"Drug Regimen\")[\"Tumor Volume (mm3)\"].std()\n",
    "StdErr = cleaned_complete_data.groupby(\"Drug Regimen\")[\"Tumor Volume (mm3)\"].sem()"
   ]
  },
  {
   "cell_type": "code",
   "execution_count": null,
   "metadata": {},
   "outputs": [],
   "source": [
    "# Generate a summary statistics table of mean, median, variance, standard deviation, and SEM of the tumor volume for each regimen\n",
    "# Assemble the resulting series into a single summary dataframe.\n",
    "Summary_data = pd.DataFrame({ \"Mean Tumor Volume\": Mean,\n",
    "                               \"Median Tumor Volume\": Median,\n",
    "                               \"Tumor Volume Variance\": Variance,\n",
    "                               \"Tumor Volume Std. Dev.\":StdDev, \n",
    "                               \"Tumor Volume Std. Err.\":StdErr                              \n",
    "                             })\n",
    "Summary_data\n"
   ]
  },
  {
   "cell_type": "code",
   "execution_count": null,
   "metadata": {},
   "outputs": [],
   "source": [
    "# Using the aggregation method, produce the same summary statistics in a single line\n",
    "new_summary_statistic = cleaned_complete_data.groupby(\"Drug Regimen\").agg({\"Tumor Volume (mm3)\":[\"mean\", \"median\", \"var\", \"std\", \"sem\"]})\n",
    "\n",
    "new_summary_statistic"
   ]
  },
  {
   "cell_type": "markdown",
   "metadata": {},
   "source": [
    "## Bar and Pie Charts"
   ]
  },
  {
   "cell_type": "code",
   "execution_count": null,
   "metadata": {},
   "outputs": [],
   "source": [
    "# Generate a bar plot showing the total number of timepoints for all mice tested for each drug regimen using Pandas.\n",
    "%matplotlib inline \n"
   ]
  },
  {
   "cell_type": "code",
   "execution_count": null,
   "metadata": {},
   "outputs": [],
   "source": [
    "mice_data = cleaned_complete_data[\"Drug Regimen\"].value_counts()\n",
    "\n",
    "mice_data"
   ]
  },
  {
   "cell_type": "code",
   "execution_count": null,
   "metadata": {},
   "outputs": [],
   "source": [
    "plot_pandas= mice_data.plot(kind = \"bar\", color = 'purple')\n",
    "plt.xlabel('Drug Regimen')\n",
    "plt.ylabel('Number of unique mice tested')\n",
    "plt.title(\"Number of Mice Tested per Treatment\")"
   ]
  },
  {
   "cell_type": "code",
   "execution_count": null,
   "metadata": {},
   "outputs": [],
   "source": [
    "# Generate a bar plot showing the total number of timepoints for all mice tested for each drug regimen using pyplot.\n",
    "drugs = mice_data.index.values\n",
    "micefigures = mice_data.values"
   ]
  },
  {
   "cell_type": "code",
   "execution_count": null,
   "metadata": {},
   "outputs": [],
   "source": [
    "x_axis = np.arange(0,len(drugs))\n",
    "tick_locations = []\n",
    "for x in x_axis:\n",
    "    tick_locations.append(x)\n",
    "plt.title(\"Number of Mice Tested per Treatment\")\n",
    "plt.xlabel(\"Drug Regimen\")\n",
    "plt.ylabel(\"Number of Mice\")\n",
    "\n",
    "plt.bar(x_axis, micefigures, facecolor=\"yellow\", alpha=1, align=\"center\")\n",
    "plt.xticks(tick_locations, drugs, rotation = \"vertical\")\n",
    "plt.show()"
   ]
  },
  {
   "cell_type": "code",
   "execution_count": null,
   "metadata": {},
   "outputs": [],
   "source": [
    "# Generate a pie plot showing the distribution of female versus male mice using Pandas\n",
    "gender =  cleaned_complete_data[\"Sex\"].value_counts()\n",
    "gender "
   ]
  },
  {
   "cell_type": "code",
   "execution_count": null,
   "metadata": {},
   "outputs": [],
   "source": [
    "gender.plot(kind='pie', y='Sex', startangle = 360, autopct ='%1.1f%%' )\n",
    "plt.title(\"Female vs. Male Mice\")\n",
    "plt.show()"
   ]
  },
  {
   "cell_type": "code",
   "execution_count": null,
   "metadata": {},
   "outputs": [],
   "source": [
    "# Generate a pie plot showing the distribution of female versus male mice using pyplot\n",
    "labels = 'Male', 'Female'\n",
    "sizes = [958, 922]\n"
   ]
  },
  {
   "cell_type": "code",
   "execution_count": null,
   "metadata": {},
   "outputs": [],
   "source": [
    "fig1, ax1 = plt.subplots()\n",
    "ax1.pie(sizes, labels=labels, autopct=\"%1.1f%%\", shadow=True, startangle=360)\n",
    "plt.title(\"Females vs. Male Mice\")\n",
    "plt.ylabel('Sex')\n",
    "plt.show()"
   ]
  },
  {
   "cell_type": "markdown",
   "metadata": {},
   "source": [
    "## Quartiles, Outliers and Boxplots"
   ]
  },
  {
   "cell_type": "code",
   "execution_count": null,
   "metadata": {},
   "outputs": [],
   "source": [
    "# Calculate the final tumor volume of each mouse across four of the treatment regimens:  \n",
    "# Capomulin, Ramicane, Infubinol, and Ceftamin\n",
    "Capomulin_table = cleaned_complete_data.loc[cleaned_complete_data[\"Drug Regimen\"] == \"Capomulin\", :]\n",
    "Ramicane_table = cleaned_complete_data.loc[cleaned_complete_data[\"Drug Regimen\"] == \"Ramicane\", :]\n",
    "Infubinol_table = cleaned_complete_data.loc[cleaned_complete_data[\"Drug Regimen\"] == \"Infubinol\", :]\n",
    "Ceftamin_table = cleaned_complete_data.loc[cleaned_complete_data[\"Drug Regimen\"] == \"Ceftamin\", :]"
   ]
  },
  {
   "cell_type": "code",
   "execution_count": null,
   "metadata": {},
   "outputs": [],
   "source": [
    "# Start by getting the last (greatest) timepoint for each mouse\n",
    "LastTimepoint_Campomulin = Capomulin_table.groupby(\"Mouse ID\")[\"Timepoint\"].max()\n",
    "Lasttimepoint_Ramicane = Ramicane_table.groupby(\"Mouse ID\")[\"Timepoint\"].max()\n",
    "Lasttimepoint_Infubinol = Infubinol_table.groupby(\"Mouse ID\")[\"Timepoint\"].max()\n",
    "Lasttimepoint_Ceftamin = Ceftamin_table.groupby(\"Mouse ID\")[\"Timepoint\"].max()\n",
    "\n",
    "# Merge this group df with the original dataframe to get the tumor volume at the last timepoint\n",
    "merged_campomulin = pd.merge( LastTimepoint_Campomulin,cleaned_complete_data,on=(\"Mouse ID\",\"Timepoint\"), how= \"left\")\n",
    "merged_Ramicane = pd.merge(Lasttimepoint_Ramicane,cleaned_complete_data,on=(\"Mouse ID\",\"Timepoint\"), how= \"left\")\n",
    "merged_Infubinol = pd.merge(Lasttimepoint_Infubinol,cleaned_complete_data,on=(\"Mouse ID\",\"Timepoint\"), how= \"left\")\n",
    "merged_Ceftamin = pd.merge(Lasttimepoint_Ceftamin,cleaned_complete_data,on=(\"Mouse ID\",\"Timepoint\"), how= \"left\")"
   ]
  },
  {
   "cell_type": "code",
   "execution_count": null,
   "metadata": {},
   "outputs": [],
   "source": [
    "total_drugs = pd.concat([merged_campomulin,merged_Ramicane, merged_Infubinol,merged_Ceftamin],ignore_index=True)\n",
    "total_drugs"
   ]
  },
  {
   "cell_type": "code",
   "execution_count": null,
   "metadata": {},
   "outputs": [],
   "source": [
    "# Put treatments into a list for for loop (and later for plot labels)\n",
    "treatment_list = [\"Capomulin\", \"Ramicane\", \"Infubinol\", \"Ceftamin\"]\n",
    "\n",
    "# Create empty list to fill with tumor vol data (for plotting)\n",
    "vol_list = []\n",
    "\n",
    "treatment = 0\n",
    "# Calculate the IQR and quantitatively determine if there are any potential outliers. \n",
    "for drug in treatment_list:\n",
    "\n",
    "    print(f\"{drug}'s Quartiles, Median and Outliers\")\n",
    "    print(f\"******************************************\")\n",
    "\n",
    "    \n",
    "    # Locate the rows which contain mice on each drug and get the tumor volumes\n",
    "    finalvolumeforeachdrug = total_drugs.loc[total_drugs[\"Drug Regimen\"]==drug][\"Tumor Volume (mm3)\"]\n",
    "    vol_list.append(finalvolumeforeachdrug)\n",
    "    \n",
    "    # add subset \n",
    "    quartiles = finalvolumeforeachdrug.quantile([.25,.5,.75])\n",
    "    lowerq = quartiles[0.25]\n",
    "    upperq = quartiles[0.75]\n",
    "    iqr = upperq-lowerq\n",
    "    \n",
    "    \n",
    "    if treatment == 0:\n",
    "    \n",
    "        print(f\"The lower quartile of {drug} is: {round(lowerq, 2)}\")\n",
    "        print(f\"The upper quartile of {drug} is: {round(upperq, 2)}\")\n",
    "        print(f\"The interquartile range of {drug} is: {round(iqr, 2)}\")\n",
    "        print(f\"The median of {drug} drug is: {round(quartiles[0.5], 2)} \")\n",
    "    \n",
    "    # Determine outliers using upper and lower bounds\n",
    "    lower_bound = lowerq - (1.5*iqr)\n",
    "    upper_bound = upperq + (1.5*iqr)\n",
    "    outliersifany = finalvolumeforeachdrug.loc[(finalvolumeforeachdrug < lower_bound) | (finalvolumeforeachdrug >  upper_bound)]\n",
    "\n",
    "    print(f\"Values below {round(lower_bound, 2)} could be outliers.\")\n",
    "    print(f\"Values above {round(upper_bound, 2)} could be outliers.\")\n",
    "    print(f\"{drug}'s potential ouliers: {outliersifany}\")\n",
    "    print(f\"----------------------------------------------------------------------------------------\")\n",
    "\n",
    "treatment = treatment + 1   "
   ]
  },
  {
   "cell_type": "code",
   "execution_count": null,
   "metadata": {},
   "outputs": [],
   "source": [
    "# Generate a box plot of the final tumor volume of each mouse across four regimens of interest\n",
    "data = [vol_list[0],vol_list[1], vol_list[2], vol_list[3]]\n",
    "treatment_list = [\"Capomulin\", \"Ramicane\", \"Infubinol\", \"Ceftamin\"]\n",
    "fig1, ax1 = plt.subplots()\n",
    "ax1.set_title('Final Drug Regimen')\n",
    "ax1.set_ylabel('Final Tumor Volume(mm3)')\n",
    "ax1.boxplot(data,flierprops = dict(marker='o', markerfacecolor='b', markersize=15,\n",
    "                   linestyle='none', markeredgecolor='r'), labels=treatment_list)\n",
    "plt.show()"
   ]
  },
  {
   "cell_type": "markdown",
   "metadata": {},
   "source": [
    "## Line and Scatter Plots"
   ]
  },
  {
   "cell_type": "code",
   "execution_count": null,
   "metadata": {},
   "outputs": [],
   "source": [
    "# Generate a line plot of tumor volume vs. time point for a mouse treated with Capomulin\n",
    "Campomulinonj246 = Capomulin_table.loc[(Capomulin_table[\"Mouse ID\"]== \"j246\")]\n",
    "Campomulinonj246"
   ]
  },
  {
   "cell_type": "code",
   "execution_count": null,
   "metadata": {},
   "outputs": [],
   "source": [
    "# Generate a scatter plot of average tumor volume vs. mouse weight for the Capomulin regimen\n",
    "plt.xlabel(\"Timepoint (days)\")\n",
    "plt.ylabel(\"Tumor Volume(mm3)\")\n",
    "plt.title(\"Campomulin treatment of mouse j246\")\n",
    "x_axis = Campomulinonj246[\"Timepoint\"]\n",
    "y_axis = Campomulinonj246[\"Tumor Volume (mm3)\"]\n",
    "plt.plot(x_axis, y_axis)\n",
    "plt.show()"
   ]
  },
  {
   "cell_type": "markdown",
   "metadata": {},
   "source": [
    "## Correlation and Regression"
   ]
  },
  {
   "cell_type": "code",
   "execution_count": null,
   "metadata": {},
   "outputs": [],
   "source": [
    "# Calculate the correlation coefficient and linear regression model \n",
    "# for mouse weight and average tumor volume for the Capomulin regimen\n",
    "avg_campomulin_vol = Capomulin_table.groupby(\"Mouse ID\").mean()\n",
    "avg_campomulin_vol"
   ]
  },
  {
   "cell_type": "code",
   "execution_count": null,
   "metadata": {},
   "outputs": [],
   "source": [
    "correlation = st.pearsonr(avg_campomulin_vol[\"Weight (g)\"],avg_campomulin_vol[\"Tumor Volume (mm3)\"])\n",
    "print(f\"The correlation between both factors is {round(correlation[0],2)}\")\n"
   ]
  },
  {
   "cell_type": "code",
   "execution_count": null,
   "metadata": {},
   "outputs": [],
   "source": [
    "x_values = avg_campomulin_vol[\"Weight (g)\"]\n",
    "y_values = avg_campomulin_vol[\"Tumor Volume (mm3)\"]\n",
    "(slope, intercept, rvalue, pvalue, stderr) = linregress(x_values, y_values)\n",
    "regress_values = x_values * slope + intercept\n",
    "line_eq = \"y = \" + str(round(slope,2)) + \"x + \" + str(round(intercept,2))\n",
    "plt.scatter(x_values,y_values)\n",
    "plt.plot(x_values,regress_values,\"r-\")\n",
    "plt.annotate(line_eq,(6,10),fontsize=15,color=\"yellow\")\n",
    "plt.xlabel('Weight (g)')\n",
    "plt.ylabel('Average Tumor Volume (mm3)')\n",
    "plt.show()"
   ]
  }
 ],
 "metadata": {
  "anaconda-cloud": {},
  "kernelspec": {
   "display_name": "Python 3",
   "language": "python",
   "name": "python3"
  },
  "language_info": {
   "codemirror_mode": {
    "name": "ipython",
    "version": 3
   },
   "file_extension": ".py",
   "mimetype": "text/x-python",
   "name": "python",
   "nbconvert_exporter": "python",
   "pygments_lexer": "ipython3",
   "version": "3.7.6"
  }
 },
 "nbformat": 4,
 "nbformat_minor": 4
}
